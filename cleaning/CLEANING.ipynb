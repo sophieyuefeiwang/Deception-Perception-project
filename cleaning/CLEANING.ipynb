{
 "cells": [
  {
   "cell_type": "code",
   "metadata": {
    "tags": [],
    "cell_id": "00001-bb22311c-46be-4095-add1-9eb91a9f9832",
    "deepnote_to_be_reexecuted": false,
    "source_hash": "a5c9fed3",
    "execution_start": 1622846144049,
    "execution_millis": 1371,
    "deepnote_cell_type": "code"
   },
   "source": "import pandas as pd\nimport matplotlib.pyplot as plt\n#pd.set_option('display.max_colwidth', 200)\npd.options.display.max_colwidth = 200\npd.set_option('display.max_rows', 4000)\n# all data scraped from https://www.politifact.com/",
   "execution_count": 1,
   "outputs": []
  },
  {
   "cell_type": "markdown",
   "source": "# Merge notebooks and create years column for internal use",
   "metadata": {
    "tags": [],
    "cell_id": "00002-463f311a-6417-416c-9ab7-0dc0e58a732a",
    "deepnote_cell_type": "markdown"
   }
  },
  {
   "cell_type": "code",
   "metadata": {
    "tags": [],
    "cell_id": "00001-3150ed3b-826f-41f2-9e12-9b797b3ae4c0",
    "deepnote_to_be_reexecuted": false,
    "source_hash": "7656facf",
    "execution_start": 1622774633897,
    "execution_millis": 147,
    "deepnote_cell_type": "code"
   },
   "source": "old = pd.read_csv(\"politifact_2019.csv\", index_col=0)\nnew = pd.read_csv(\"politifact_2021.csv\", index_col=0)\nnew = new.rename(columns={\"year\": \"link\"})\nmerged = pd.concat([old,new])\nmerged[\"year\"] = merged.link.str.extract(r'(\\d{4})').astype(int)",
   "execution_count": null,
   "outputs": []
  },
  {
   "cell_type": "markdown",
   "source": "# Drop duplicate statements",
   "metadata": {
    "tags": [],
    "cell_id": "00003-17992922-3e25-4a2f-9e95-47d78d35d9b4",
    "deepnote_cell_type": "markdown"
   }
  },
  {
   "cell_type": "code",
   "metadata": {
    "tags": [],
    "cell_id": "00003-3a7df048-e3d2-4b11-ad30-c6d7e3d2ebac",
    "deepnote_to_be_reexecuted": false,
    "source_hash": "cbe3eca9",
    "execution_start": 1622774634650,
    "execution_millis": 30,
    "deepnote_cell_type": "code"
   },
   "source": "merged = merged.drop_duplicates(subset=['statement'])\nmerged.head()",
   "execution_count": null,
   "outputs": [
    {
     "output_type": "execute_result",
     "execution_count": 130,
     "data": {
      "application/vnd.deepnote.dataframe.v2+json": {
       "row_count": 5,
       "column_count": 5,
       "columns": [
        {
         "name": "statement",
         "dtype": "object",
         "stats": {
          "unique_count": 5,
          "nan_count": 0,
          "categories": [
           {
            "name": "Says that in 1770 \"British parliament banned lipstick, saying it had the power to seduce men into marriage, which was classified as witchcraft.\"",
            "count": 1
           },
           {
            "name": "Says Ann Landers said, \"At age 20, we worry about what others think of us. At age 40, we don’t care what they think. At age 60, we discover that they have not been thinking of us at all.\"",
            "count": 1
           },
           {
            "name": "3 others",
            "count": 3
           }
          ]
         }
        },
        {
         "name": "source",
         "dtype": "object",
         "stats": {
          "unique_count": 5,
          "nan_count": 0,
          "categories": [
           {
            "name": "Facebook posts",
            "count": 1
           },
           {
            "name": "Viral image",
            "count": 1
           },
           {
            "name": "3 others",
            "count": 3
           }
          ]
         }
        },
        {
         "name": "link",
         "dtype": "object",
         "stats": {
          "unique_count": 5,
          "nan_count": 0,
          "categories": [
           {
            "name": "/facebook-fact-checks/statements/2019/oct/25/facebook-posts/no-british-parliament-didnt-ban-witchcraft-lipstic/",
            "count": 1
           },
           {
            "name": "/facebook-fact-checks/statements/2019/oct/25/viral-image/no-evidence-ann-landers-said-quote-about-age/",
            "count": 1
           },
           {
            "name": "3 others",
            "count": 3
           }
          ]
         }
        },
        {
         "name": "veracity",
         "dtype": "object",
         "stats": {
          "unique_count": 3,
          "nan_count": 0,
          "categories": [
           {
            "name": "Pants on Fire!",
            "count": 2
           },
           {
            "name": "Half-True",
            "count": 2
           },
           {
            "name": "False",
            "count": 1
           }
          ]
         }
        },
        {
         "name": "year",
         "dtype": "int64",
         "stats": {
          "unique_count": 1,
          "nan_count": 0,
          "min": "2019",
          "max": "2019",
          "histogram": [
           {
            "bin_start": 2018.5,
            "bin_end": 2018.6,
            "count": 0
           },
           {
            "bin_start": 2018.6,
            "bin_end": 2018.7,
            "count": 0
           },
           {
            "bin_start": 2018.7,
            "bin_end": 2018.8,
            "count": 0
           },
           {
            "bin_start": 2018.8,
            "bin_end": 2018.9,
            "count": 0
           },
           {
            "bin_start": 2018.9,
            "bin_end": 2019,
            "count": 0
           },
           {
            "bin_start": 2019,
            "bin_end": 2019.1,
            "count": 5
           },
           {
            "bin_start": 2019.1,
            "bin_end": 2019.2,
            "count": 0
           },
           {
            "bin_start": 2019.2,
            "bin_end": 2019.3,
            "count": 0
           },
           {
            "bin_start": 2019.3,
            "bin_end": 2019.4,
            "count": 0
           },
           {
            "bin_start": 2019.4,
            "bin_end": 2019.5,
            "count": 0
           }
          ]
         }
        },
        {
         "name": "_deepnote_index_column",
         "dtype": "object"
        }
       ],
       "rows_top": [
        {
         "statement": "Says that in 1770 \"British parliament banned lipstick, saying it had the power to seduce men into m…",
         "source": "Facebook posts",
         "link": "/facebook-fact-checks/statements/2019/oct/25/facebook-posts/no-british-parliament-didnt-ban-witchcr…",
         "veracity": "Pants on Fire!",
         "year": 2019,
         "_deepnote_index_column": "0"
        },
        {
         "statement": "Says Ann Landers said, \"At age 20, we worry about what others think of us. At age 40, we don’t care…",
         "source": "Viral image",
         "link": "/facebook-fact-checks/statements/2019/oct/25/viral-image/no-evidence-ann-landers-said-quote-about-a…",
         "veracity": "False",
         "year": 2019,
         "_deepnote_index_column": "1"
        },
        {
         "statement": "\"General Motors is making record profits.\"",
         "source": "Glenn Kage",
         "link": "/missouri/statements/2019/oct/25/glenn-kage/general-motors-profits-have-been-record-setting-no/",
         "veracity": "Half-True",
         "year": 2019,
         "_deepnote_index_column": "2"
        },
        {
         "statement": "\"14,000 abandoned wind turbines litter the United States.\"",
         "source": "Chain email",
         "link": "/missouri/statements/2019/oct/25/chain-email/no-there-arent-14000-abandoned-wind-turbines-litte/",
         "veracity": "Pants on Fire!",
         "year": 2019,
         "_deepnote_index_column": "3"
        },
        {
         "statement": "Says Congress gave Wall Street \"trillions of dollars of zero interest loans.\"",
         "source": "Bernie Sanders",
         "link": "/truth-o-meter/statements/2019/oct/25/bernie-sanders/bernie-sanders-overstates-recession-aid-wall-s…",
         "veracity": "Half-True",
         "year": 2019,
         "_deepnote_index_column": "4"
        }
       ],
       "rows_bottom": null
      },
      "text/plain": "                                                                                                                                                                                     statement  \\\n0                                             Says that in 1770 \"British parliament banned lipstick, saying it had the power to seduce men into marriage, which was classified as witchcraft.\"   \n1  Says Ann Landers said, \"At age 20, we worry about what others think of us. At age 40, we don’t care what they think. At age 60, we discover that they have not been thinking of us at all.\"   \n2                                                                                                                                                   \"General Motors is making record profits.\"   \n3                                                                                                                                   \"14,000 abandoned wind turbines litter the United States.\"   \n4                                                                                                                Says Congress gave Wall Street \"trillions of dollars of zero interest loans.\"   \n\n           source  \\\n0  Facebook posts   \n1     Viral image   \n2      Glenn Kage   \n3     Chain email   \n4  Bernie Sanders   \n\n                                                                                                              link  \\\n0  /facebook-fact-checks/statements/2019/oct/25/facebook-posts/no-british-parliament-didnt-ban-witchcraft-lipstic/   \n1           /facebook-fact-checks/statements/2019/oct/25/viral-image/no-evidence-ann-landers-said-quote-about-age/   \n2                  /missouri/statements/2019/oct/25/glenn-kage/general-motors-profits-have-been-record-setting-no/   \n3                 /missouri/statements/2019/oct/25/chain-email/no-there-arent-14000-abandoned-wind-turbines-litte/   \n4         /truth-o-meter/statements/2019/oct/25/bernie-sanders/bernie-sanders-overstates-recession-aid-wall-stree/   \n\n         veracity  year  \n0  Pants on Fire!  2019  \n1           False  2019  \n2       Half-True  2019  \n3  Pants on Fire!  2019  \n4       Half-True  2019  ",
      "text/html": "<div>\n<style scoped>\n    .dataframe tbody tr th:only-of-type {\n        vertical-align: middle;\n    }\n\n    .dataframe tbody tr th {\n        vertical-align: top;\n    }\n\n    .dataframe thead th {\n        text-align: right;\n    }\n</style>\n<table border=\"1\" class=\"dataframe\">\n  <thead>\n    <tr style=\"text-align: right;\">\n      <th></th>\n      <th>statement</th>\n      <th>source</th>\n      <th>link</th>\n      <th>veracity</th>\n      <th>year</th>\n    </tr>\n  </thead>\n  <tbody>\n    <tr>\n      <th>0</th>\n      <td>Says that in 1770 \"British parliament banned lipstick, saying it had the power to seduce men into marriage, which was classified as witchcraft.\"</td>\n      <td>Facebook posts</td>\n      <td>/facebook-fact-checks/statements/2019/oct/25/facebook-posts/no-british-parliament-didnt-ban-witchcraft-lipstic/</td>\n      <td>Pants on Fire!</td>\n      <td>2019</td>\n    </tr>\n    <tr>\n      <th>1</th>\n      <td>Says Ann Landers said, \"At age 20, we worry about what others think of us. At age 40, we don’t care what they think. At age 60, we discover that they have not been thinking of us at all.\"</td>\n      <td>Viral image</td>\n      <td>/facebook-fact-checks/statements/2019/oct/25/viral-image/no-evidence-ann-landers-said-quote-about-age/</td>\n      <td>False</td>\n      <td>2019</td>\n    </tr>\n    <tr>\n      <th>2</th>\n      <td>\"General Motors is making record profits.\"</td>\n      <td>Glenn Kage</td>\n      <td>/missouri/statements/2019/oct/25/glenn-kage/general-motors-profits-have-been-record-setting-no/</td>\n      <td>Half-True</td>\n      <td>2019</td>\n    </tr>\n    <tr>\n      <th>3</th>\n      <td>\"14,000 abandoned wind turbines litter the United States.\"</td>\n      <td>Chain email</td>\n      <td>/missouri/statements/2019/oct/25/chain-email/no-there-arent-14000-abandoned-wind-turbines-litte/</td>\n      <td>Pants on Fire!</td>\n      <td>2019</td>\n    </tr>\n    <tr>\n      <th>4</th>\n      <td>Says Congress gave Wall Street \"trillions of dollars of zero interest loans.\"</td>\n      <td>Bernie Sanders</td>\n      <td>/truth-o-meter/statements/2019/oct/25/bernie-sanders/bernie-sanders-overstates-recession-aid-wall-stree/</td>\n      <td>Half-True</td>\n      <td>2019</td>\n    </tr>\n  </tbody>\n</table>\n</div>"
     },
     "metadata": {}
    }
   ]
  },
  {
   "cell_type": "markdown",
   "source": "# Dictionary mapping veracity to a a single structure",
   "metadata": {
    "tags": [],
    "cell_id": "00005-a7e7341d-e515-4c79-8dc5-4cf10ed7e2f5",
    "deepnote_cell_type": "markdown"
   }
  },
  {
   "cell_type": "code",
   "metadata": {
    "tags": [],
    "cell_id": "00005-da130d40-4373-464f-ad91-737788cd86ce",
    "deepnote_to_be_reexecuted": false,
    "source_hash": "519b0bb1",
    "execution_start": 1622774635614,
    "execution_millis": 2,
    "deepnote_cell_type": "code"
   },
   "source": "dictionary = {'pants-fire'    : \"pants-fire\",\n              'false'    : \"false\",\n              'full-flop'    : \"full-flop\",\n              'mostly-true'    : \"mostly-true\",\n              'barely-true'    : \"barely-true\",\n              'half-true'   : \"half-true\",\n              'true'  : \"true\",\n              'Pants on Fire!'    : \"pants-fire\",\n              'False'    : \"false\",\n              'Full Flop'    : \"full-flop\",\n              'Mostly True'    : \"mostly-true\",\n              'Half-True'   : \"half-true\",\n              'True'  : \"true\",\n              'Mostly False' : \"mostly-false\",\n              'Half Flip' : 'half-flip',\n              'No Flip' : 'no-flip'\n            }\n\nmerged['renamed_veracity'] = merged['veracity'].apply(lambda x: dictionary[x])",
   "execution_count": null,
   "outputs": []
  },
  {
   "cell_type": "code",
   "metadata": {
    "tags": [],
    "cell_id": "00007-46702713-817c-4f08-9b97-23c88e96c074",
    "deepnote_to_be_reexecuted": false,
    "source_hash": "a47a2506",
    "execution_start": 1622774636691,
    "execution_millis": 8,
    "deepnote_cell_type": "code"
   },
   "source": "merged.renamed_veracity.value_counts()",
   "execution_count": null,
   "outputs": [
    {
     "output_type": "execute_result",
     "execution_count": 132,
     "data": {
      "text/plain": "false           3424\nhalf-true       3196\nmostly-true     3045\nmostly-false    2755\ntrue            2359\npants-fire      1895\nfull-flop        150\nbarely-true       76\nhalf-flip         68\nno-flip           26\nName: renamed_veracity, dtype: int64"
     },
     "metadata": {}
    }
   ]
  },
  {
   "cell_type": "code",
   "metadata": {
    "tags": [],
    "cell_id": "00005-f32dc96f-ab5e-4818-90a0-6408e12635c1",
    "deepnote_to_be_reexecuted": false,
    "source_hash": "cb8e87a9",
    "execution_start": 1622774636903,
    "execution_millis": 8,
    "deepnote_cell_type": "code"
   },
   "source": "merged = merged.drop(merged[merged['renamed_veracity'].isin(['full-flop','half-flip','no-flip'])].index, axis=0)",
   "execution_count": null,
   "outputs": []
  },
  {
   "cell_type": "code",
   "metadata": {
    "tags": [],
    "cell_id": "00009-a82e5397-6951-4e9b-9994-fc886a72598c",
    "deepnote_to_be_reexecuted": false,
    "source_hash": "a47a2506",
    "execution_start": 1622774637265,
    "execution_millis": 6,
    "deepnote_cell_type": "code"
   },
   "source": "merged.renamed_veracity.value_counts()",
   "execution_count": null,
   "outputs": [
    {
     "output_type": "execute_result",
     "execution_count": 134,
     "data": {
      "text/plain": "false           3424\nhalf-true       3196\nmostly-true     3045\nmostly-false    2755\ntrue            2359\npants-fire      1895\nbarely-true       76\nName: renamed_veracity, dtype: int64"
     },
     "metadata": {}
    }
   ]
  },
  {
   "cell_type": "code",
   "metadata": {
    "tags": [],
    "cell_id": "00010-7cb28d54-acc9-4cbe-9c1e-f5e12fe57866",
    "deepnote_to_be_reexecuted": false,
    "source_hash": "b7b533ca",
    "execution_start": 1622774637429,
    "execution_millis": 56,
    "deepnote_cell_type": "code"
   },
   "source": "merged[merged.statement.str.contains(\"\\n\")]",
   "execution_count": null,
   "outputs": [
    {
     "output_type": "execute_result",
     "execution_count": 135,
     "data": {
      "application/vnd.deepnote.dataframe.v2+json": {
       "row_count": 16,
       "column_count": 6,
       "columns": [
        {
         "name": "statement",
         "dtype": "object",
         "stats": {
          "unique_count": 16,
          "nan_count": 0,
          "categories": [
           {
            "name": "\"Republican policies have led to business investment growth that’s 10 times\nfaster than what we saw under President Obama.\"",
            "count": 1
           },
           {
            "name": "Republicans on the budget-writing committee \"did nothing\" to address oversight of\nlarge-scale farms, \"as literal manure is coming out of people’s faucets.",
            "count": 1
           },
           {
            "name": "14 others",
            "count": 14
           }
          ]
         }
        },
        {
         "name": "source",
         "dtype": "object",
         "stats": {
          "unique_count": 16,
          "nan_count": 0,
          "categories": [
           {
            "name": "Ron Johnson",
            "count": 1
           },
           {
            "name": "Jimmy Anderson",
            "count": 1
           },
           {
            "name": "14 others",
            "count": 14
           }
          ]
         }
        },
        {
         "name": "link",
         "dtype": "object",
         "stats": {
          "unique_count": 16,
          "nan_count": 0,
          "categories": [
           {
            "name": "/wisconsin/statements/2019/oct/09/ron-johnson/wisconsin-gop-sen-ron-johnson-overreaches-economy-/",
            "count": 1
           },
           {
            "name": "/wisconsin/statements/2019/jun/11/jimmy-anderson/state-lawmaker-goes-too-far-out-pasture-large-scal/",
            "count": 1
           },
           {
            "name": "14 others",
            "count": 14
           }
          ]
         }
        },
        {
         "name": "veracity",
         "dtype": "object",
         "stats": {
          "unique_count": 4,
          "nan_count": 0,
          "categories": [
           {
            "name": "Mostly True",
            "count": 6
           },
           {
            "name": "Half-True",
            "count": 5
           },
           {
            "name": "2 others",
            "count": 5
           }
          ]
         }
        },
        {
         "name": "year",
         "dtype": "int64",
         "stats": {
          "unique_count": 8,
          "nan_count": 0,
          "min": "2007",
          "max": "2019",
          "histogram": [
           {
            "bin_start": 2007,
            "bin_end": 2008.2,
            "count": 4
           },
           {
            "bin_start": 2008.2,
            "bin_end": 2009.4,
            "count": 0
           },
           {
            "bin_start": 2009.4,
            "bin_end": 2010.6,
            "count": 2
           },
           {
            "bin_start": 2010.6,
            "bin_end": 2011.8,
            "count": 3
           },
           {
            "bin_start": 2011.8,
            "bin_end": 2013,
            "count": 1
           },
           {
            "bin_start": 2013,
            "bin_end": 2014.2,
            "count": 1
           },
           {
            "bin_start": 2014.2,
            "bin_end": 2015.4,
            "count": 2
           },
           {
            "bin_start": 2015.4,
            "bin_end": 2016.6,
            "count": 0
           },
           {
            "bin_start": 2016.6,
            "bin_end": 2017.8,
            "count": 1
           },
           {
            "bin_start": 2017.8,
            "bin_end": 2019,
            "count": 2
           }
          ]
         }
        },
        {
         "name": "renamed_veracity",
         "dtype": "object",
         "stats": {
          "unique_count": 4,
          "nan_count": 0,
          "categories": [
           {
            "name": "mostly-true",
            "count": 6
           },
           {
            "name": "half-true",
            "count": 5
           },
           {
            "name": "2 others",
            "count": 5
           }
          ]
         }
        },
        {
         "name": "_deepnote_index_column",
         "dtype": "object"
        }
       ],
       "rows_top": [
        {
         "statement": "\"Republican policies have led to business investment growth that’s 10 times\nfaster than what we saw…",
         "source": "Ron Johnson",
         "link": "/wisconsin/statements/2019/oct/09/ron-johnson/wisconsin-gop-sen-ron-johnson-overreaches-economy-/",
         "veracity": "Mostly False",
         "year": 2019,
         "renamed_veracity": "mostly-false",
         "_deepnote_index_column": "67"
        },
        {
         "statement": "Republicans on the budget-writing committee \"did nothing\" to address oversight of\nlarge-scale farms…",
         "source": "Jimmy Anderson",
         "link": "/wisconsin/statements/2019/jun/11/jimmy-anderson/state-lawmaker-goes-too-far-out-pasture-large-scal/",
         "veracity": "Half-True",
         "year": 2019,
         "renamed_veracity": "half-true",
         "_deepnote_index_column": "479"
        },
        {
         "statement": "\"Cost of iPhone: $399\n- Cost of healthcare for 1 year: $10,345\n- Hearing @jasoninthehouse compare t…",
         "source": "Gavin Newsom",
         "link": "/california/statements/2017/mar/10/gavin-newsom/debate-over-iphone-vs-health-care-costs-gavin-news/",
         "veracity": "Mostly True",
         "year": 2017,
         "renamed_veracity": "mostly-true",
         "_deepnote_index_column": "3510"
        },
        {
         "statement": "\"GEORGIA ROADWAY FATALITIES THIS YEAR: 59\nPLEASE DRIVE SAFELY\"",
         "source": "Georgia Department of Transportation",
         "link": "/georgia/statements/2015/feb/02/billboard-spaghetti-junction/dot-sign-counts-roadway-deaths/",
         "veracity": "True",
         "year": 2015,
         "renamed_veracity": "true",
         "_deepnote_index_column": "6707"
        },
        {
         "statement": "The state covered a smaller percentage of the cost of K-12 education in 2013 than it did\nin 2002.",
         "source": "Claire Suggs",
         "link": "/georgia/statements/2015/jan/20/claire-suggs/analyst-target-education-spending/",
         "veracity": "Mostly True",
         "year": 2015,
         "renamed_veracity": "mostly-true",
         "_deepnote_index_column": "6759"
        },
        {
         "statement": "Says \n\"With nearly 75 percent of Americans supportive of the construction of the pipeline, Schrader…",
         "source": "National Republican Congressional Committee",
         "link": "/oregon/statements/2013/jun/01/national-republican-congressional-committee/did-kurt-schrader-vote-a…",
         "veracity": "Mostly True",
         "year": 2013,
         "renamed_veracity": "mostly-true",
         "_deepnote_index_column": "9204"
        },
        {
         "statement": "\"Clayton County Public Schools recently achieved a milestone that has eluded other\nmetropolitan dis…",
         "source": "Clayton County Schools",
         "link": "/georgia/statements/2012/aug/22/clayton-county-schools/clayton-schools-claim-high-status/",
         "veracity": "True",
         "year": 2012,
         "renamed_veracity": "true",
         "_deepnote_index_column": "10478"
        },
        {
         "statement": "Chris Christie has not been \"effective at creating jobs … (or have) a record of governing for effec…",
         "source": "Martin O'Malley",
         "link": "/truth-o-meter/statements/2011/oct/03/martin-omalley/under-chris-christie-does-new-jersey-have-one-…",
         "veracity": "Half-True",
         "year": 2011,
         "renamed_veracity": "half-true",
         "_deepnote_index_column": "12263"
        },
        {
         "statement": "Says U.S. Sen Sherrod Brown \"promised that the first stimulus bill would fund the\nBrent Spence Brid…",
         "source": "Josh Mandel",
         "link": "/ohio/statements/2011/sep/30/josh-mandel/josh-mandel-says-sherrod-brown-promised-ohio-river/",
         "veracity": "Mostly False",
         "year": 2011,
         "renamed_veracity": "mostly-false",
         "_deepnote_index_column": "12279"
        },
        {
         "statement": "Says his state budget will \"provide an increase in state funding\nfor the 2011-12 school year.\"",
         "source": "John Kitzhaber",
         "link": "/oregon/statements/2011/feb/02/john-kitzhaber/john-kitzhaber-says-proposed-budget-represents-inc/",
         "veracity": "Mostly True",
         "year": 2011,
         "renamed_veracity": "mostly-true",
         "_deepnote_index_column": "13615"
        },
        {
         "statement": "\"The IRS filed an $11,000 lien against (Allen) West for back taxes. Three liens were placed on\nhis …",
         "source": "Ron Klein",
         "link": "/florida/statements/2010/aug/30/ron-klein/ron-klien-says-allen-west-late-paying-bills/",
         "veracity": "Mostly True",
         "year": 2010,
         "renamed_veracity": "mostly-true",
         "_deepnote_index_column": "14450"
        },
        {
         "statement": "\"Over the time that President Obama has been in office, we have lost 2.5 million free\nenterprise sy…",
         "source": "Pete Sessions",
         "link": "/texas/statements/2010/aug/08/pete-sessions/pete-sessions-federal-government-has-gained-500000/",
         "veracity": "Mostly False",
         "year": 2010,
         "renamed_veracity": "mostly-false",
         "_deepnote_index_column": "14557"
        },
        {
         "statement": "\"John Edwards never -- has ever from the beginning of his political career has never taken PAC mone…",
         "source": "John Edwards",
         "link": "/truth-o-meter/statements/2007/oct/16/john-edwards/not-really-never-ever/",
         "veracity": "Half-True",
         "year": 2007,
         "renamed_veracity": "half-true",
         "_deepnote_index_column": "16499"
        },
        {
         "statement": "\"It doesn't make sense to me to send $1-billion a day out of our\ncountry. We can be energy independ…",
         "source": "Mitt Romney",
         "link": "/truth-o-meter/statements/2007/oct/02/mitt-romney/difficult-to-go-it-alone-on-energy/",
         "veracity": "Half-True",
         "year": 2007,
         "renamed_veracity": "half-true",
         "_deepnote_index_column": "16525"
        },
        {
         "statement": "\"We're spending $1.6 billion for all of Latin America in terms of aid and assistance, a\nfraction of…",
         "source": "Chris Dodd",
         "link": "/truth-o-meter/statements/2007/sep/14/chris-dodd/correct-although-money-not-yet-appropriated/",
         "veracity": "Mostly True",
         "year": 2007,
         "renamed_veracity": "mostly-true",
         "_deepnote_index_column": "16550"
        },
        {
         "statement": "\"When NAFTA was passed, there was an acceleration of immigration from Mexico because people were\nin…",
         "source": "Dennis Kucinich",
         "link": "/truth-o-meter/statements/2007/sep/07/dennis-kucinich/nafta-not-a-big-factor-in-increase/",
         "veracity": "Half-True",
         "year": 2007,
         "renamed_veracity": "half-true",
         "_deepnote_index_column": "16567"
        }
       ],
       "rows_bottom": null
      },
      "text/plain": "                                                                                                                                                                                                     statement  \\\n67                                                                                \"Republican policies have led to business investment growth that’s 10 times\\nfaster than what we saw under President Obama.\"   \n479                                                Republicans on the budget-writing committee \"did nothing\" to address oversight of\\nlarge-scale farms, \"as literal manure is coming out of people’s faucets.   \n3510                                                             \"Cost of iPhone: $399\\n- Cost of healthcare for 1 year: $10,345\\n- Hearing @jasoninthehouse compare the 2 as if they are the same: priceless\"   \n6707                                                                                                                                           \"GEORGIA ROADWAY FATALITIES THIS YEAR: 59\\nPLEASE DRIVE SAFELY\"   \n6759                                                                                                        The state covered a smaller percentage of the cost of K-12 education in 2013 than it did\\nin 2002.   \n9204                       Says \\n\"With nearly 75 percent of Americans supportive of the construction of the pipeline, Schrader needs to explain to Oregon families why he voted against this needed project.\"   \n10478          \"Clayton County Public Schools recently achieved a milestone that has eluded other\\nmetropolitan districts across the state\" by meeting federal guidelines for having a highly qualified staff.   \n12263  Chris Christie has not been \"effective at creating jobs … (or have) a record of governing for effectiveness. ...\\nNew Jersey (has) one of the higher unemployment rates in the country at 9.4 percent.\"   \n12279                                                                                                 Says U.S. Sen Sherrod Brown \"promised that the first stimulus bill would fund the\\nBrent Spence Bridge.\"   \n13615                                                                                                          Says his state budget will \"provide an increase in state funding\\nfor the 2011-12 school year.\"   \n14450  \"The IRS filed an $11,000 lien against (Allen) West for back taxes. Three liens were placed on\\nhis home for unpaid bills, and a judge ordered West to pay over $5,000 for past due\\ncredit card bil...   \n14557                              \"Over the time that President Obama has been in office, we have lost 2.5 million free\\nenterprise system jobs, and, yet, 500,000 federal government jobs have been\\nadded.\"   \n16499                  \"John Edwards never -- has ever from the beginning of his political career has never taken PAC money or the money of Washington lobbyists. Ever.\"\\n-Joe Trippi, senior campaign adviser   \n16525                                                                                  \"It doesn't make sense to me to send $1-billion a day out of our\\ncountry. We can be energy independent and should be.\"   \n16550                                    \"We're spending $1.6 billion for all of Latin America in terms of aid and assistance, a\\nfraction of what we're spending in Iraq, the $500 billion we've spent there\"   \n16567                                                                                    \"When NAFTA was passed, there was an acceleration of immigration from Mexico because people were\\nin search of jobs.\"   \n\n                                            source  \\\n67                                     Ron Johnson   \n479                                 Jimmy Anderson   \n3510                                  Gavin Newsom   \n6707          Georgia Department of Transportation   \n6759                                  Claire Suggs   \n9204   National Republican Congressional Committee   \n10478                       Clayton County Schools   \n12263                              Martin O'Malley   \n12279                                  Josh Mandel   \n13615                               John Kitzhaber   \n14450                                    Ron Klein   \n14557                                Pete Sessions   \n16499                                 John Edwards   \n16525                                  Mitt Romney   \n16550                                   Chris Dodd   \n16567                              Dennis Kucinich   \n\n                                                                                                                                 link  \\\n67                                  /wisconsin/statements/2019/oct/09/ron-johnson/wisconsin-gop-sen-ron-johnson-overreaches-economy-/   \n479                              /wisconsin/statements/2019/jun/11/jimmy-anderson/state-lawmaker-goes-too-far-out-pasture-large-scal/   \n3510                              /california/statements/2017/mar/10/gavin-newsom/debate-over-iphone-vs-health-care-costs-gavin-news/   \n6707                                     /georgia/statements/2015/feb/02/billboard-spaghetti-junction/dot-sign-counts-roadway-deaths/   \n6759                                                  /georgia/statements/2015/jan/20/claire-suggs/analyst-target-education-spending/   \n9204   /oregon/statements/2013/jun/01/national-republican-congressional-committee/did-kurt-schrader-vote-against-widely-supported-ke/   \n10478                                       /georgia/statements/2012/aug/22/clayton-county-schools/clayton-schools-claim-high-status/   \n12263                        /truth-o-meter/statements/2011/oct/03/martin-omalley/under-chris-christie-does-new-jersey-have-one-high/   \n12279                                    /ohio/statements/2011/sep/30/josh-mandel/josh-mandel-says-sherrod-brown-promised-ohio-river/   \n13615                               /oregon/statements/2011/feb/02/john-kitzhaber/john-kitzhaber-says-proposed-budget-represents-inc/   \n14450                                          /florida/statements/2010/aug/30/ron-klein/ron-klien-says-allen-west-late-paying-bills/   \n14557                                 /texas/statements/2010/aug/08/pete-sessions/pete-sessions-federal-government-has-gained-500000/   \n16499                                                       /truth-o-meter/statements/2007/oct/16/john-edwards/not-really-never-ever/   \n16525                                           /truth-o-meter/statements/2007/oct/02/mitt-romney/difficult-to-go-it-alone-on-energy/   \n16550                                   /truth-o-meter/statements/2007/sep/14/chris-dodd/correct-although-money-not-yet-appropriated/   \n16567                                       /truth-o-meter/statements/2007/sep/07/dennis-kucinich/nafta-not-a-big-factor-in-increase/   \n\n           veracity  year renamed_veracity  \n67     Mostly False  2019     mostly-false  \n479       Half-True  2019        half-true  \n3510    Mostly True  2017      mostly-true  \n6707           True  2015             true  \n6759    Mostly True  2015      mostly-true  \n9204    Mostly True  2013      mostly-true  \n10478          True  2012             true  \n12263     Half-True  2011        half-true  \n12279  Mostly False  2011     mostly-false  \n13615   Mostly True  2011      mostly-true  \n14450   Mostly True  2010      mostly-true  \n14557  Mostly False  2010     mostly-false  \n16499     Half-True  2007        half-true  \n16525     Half-True  2007        half-true  \n16550   Mostly True  2007      mostly-true  \n16567     Half-True  2007        half-true  ",
      "text/html": "<div>\n<style scoped>\n    .dataframe tbody tr th:only-of-type {\n        vertical-align: middle;\n    }\n\n    .dataframe tbody tr th {\n        vertical-align: top;\n    }\n\n    .dataframe thead th {\n        text-align: right;\n    }\n</style>\n<table border=\"1\" class=\"dataframe\">\n  <thead>\n    <tr style=\"text-align: right;\">\n      <th></th>\n      <th>statement</th>\n      <th>source</th>\n      <th>link</th>\n      <th>veracity</th>\n      <th>year</th>\n      <th>renamed_veracity</th>\n    </tr>\n  </thead>\n  <tbody>\n    <tr>\n      <th>67</th>\n      <td>\"Republican policies have led to business investment growth that’s 10 times\\nfaster than what we saw under President Obama.\"</td>\n      <td>Ron Johnson</td>\n      <td>/wisconsin/statements/2019/oct/09/ron-johnson/wisconsin-gop-sen-ron-johnson-overreaches-economy-/</td>\n      <td>Mostly False</td>\n      <td>2019</td>\n      <td>mostly-false</td>\n    </tr>\n    <tr>\n      <th>479</th>\n      <td>Republicans on the budget-writing committee \"did nothing\" to address oversight of\\nlarge-scale farms, \"as literal manure is coming out of people’s faucets.</td>\n      <td>Jimmy Anderson</td>\n      <td>/wisconsin/statements/2019/jun/11/jimmy-anderson/state-lawmaker-goes-too-far-out-pasture-large-scal/</td>\n      <td>Half-True</td>\n      <td>2019</td>\n      <td>half-true</td>\n    </tr>\n    <tr>\n      <th>3510</th>\n      <td>\"Cost of iPhone: $399\\n- Cost of healthcare for 1 year: $10,345\\n- Hearing @jasoninthehouse compare the 2 as if they are the same: priceless\"</td>\n      <td>Gavin Newsom</td>\n      <td>/california/statements/2017/mar/10/gavin-newsom/debate-over-iphone-vs-health-care-costs-gavin-news/</td>\n      <td>Mostly True</td>\n      <td>2017</td>\n      <td>mostly-true</td>\n    </tr>\n    <tr>\n      <th>6707</th>\n      <td>\"GEORGIA ROADWAY FATALITIES THIS YEAR: 59\\nPLEASE DRIVE SAFELY\"</td>\n      <td>Georgia Department of Transportation</td>\n      <td>/georgia/statements/2015/feb/02/billboard-spaghetti-junction/dot-sign-counts-roadway-deaths/</td>\n      <td>True</td>\n      <td>2015</td>\n      <td>true</td>\n    </tr>\n    <tr>\n      <th>6759</th>\n      <td>The state covered a smaller percentage of the cost of K-12 education in 2013 than it did\\nin 2002.</td>\n      <td>Claire Suggs</td>\n      <td>/georgia/statements/2015/jan/20/claire-suggs/analyst-target-education-spending/</td>\n      <td>Mostly True</td>\n      <td>2015</td>\n      <td>mostly-true</td>\n    </tr>\n    <tr>\n      <th>9204</th>\n      <td>Says \\n\"With nearly 75 percent of Americans supportive of the construction of the pipeline, Schrader needs to explain to Oregon families why he voted against this needed project.\"</td>\n      <td>National Republican Congressional Committee</td>\n      <td>/oregon/statements/2013/jun/01/national-republican-congressional-committee/did-kurt-schrader-vote-against-widely-supported-ke/</td>\n      <td>Mostly True</td>\n      <td>2013</td>\n      <td>mostly-true</td>\n    </tr>\n    <tr>\n      <th>10478</th>\n      <td>\"Clayton County Public Schools recently achieved a milestone that has eluded other\\nmetropolitan districts across the state\" by meeting federal guidelines for having a highly qualified staff.</td>\n      <td>Clayton County Schools</td>\n      <td>/georgia/statements/2012/aug/22/clayton-county-schools/clayton-schools-claim-high-status/</td>\n      <td>True</td>\n      <td>2012</td>\n      <td>true</td>\n    </tr>\n    <tr>\n      <th>12263</th>\n      <td>Chris Christie has not been \"effective at creating jobs … (or have) a record of governing for effectiveness. ...\\nNew Jersey (has) one of the higher unemployment rates in the country at 9.4 percent.\"</td>\n      <td>Martin O'Malley</td>\n      <td>/truth-o-meter/statements/2011/oct/03/martin-omalley/under-chris-christie-does-new-jersey-have-one-high/</td>\n      <td>Half-True</td>\n      <td>2011</td>\n      <td>half-true</td>\n    </tr>\n    <tr>\n      <th>12279</th>\n      <td>Says U.S. Sen Sherrod Brown \"promised that the first stimulus bill would fund the\\nBrent Spence Bridge.\"</td>\n      <td>Josh Mandel</td>\n      <td>/ohio/statements/2011/sep/30/josh-mandel/josh-mandel-says-sherrod-brown-promised-ohio-river/</td>\n      <td>Mostly False</td>\n      <td>2011</td>\n      <td>mostly-false</td>\n    </tr>\n    <tr>\n      <th>13615</th>\n      <td>Says his state budget will \"provide an increase in state funding\\nfor the 2011-12 school year.\"</td>\n      <td>John Kitzhaber</td>\n      <td>/oregon/statements/2011/feb/02/john-kitzhaber/john-kitzhaber-says-proposed-budget-represents-inc/</td>\n      <td>Mostly True</td>\n      <td>2011</td>\n      <td>mostly-true</td>\n    </tr>\n    <tr>\n      <th>14450</th>\n      <td>\"The IRS filed an $11,000 lien against (Allen) West for back taxes. Three liens were placed on\\nhis home for unpaid bills, and a judge ordered West to pay over $5,000 for past due\\ncredit card bil...</td>\n      <td>Ron Klein</td>\n      <td>/florida/statements/2010/aug/30/ron-klein/ron-klien-says-allen-west-late-paying-bills/</td>\n      <td>Mostly True</td>\n      <td>2010</td>\n      <td>mostly-true</td>\n    </tr>\n    <tr>\n      <th>14557</th>\n      <td>\"Over the time that President Obama has been in office, we have lost 2.5 million free\\nenterprise system jobs, and, yet, 500,000 federal government jobs have been\\nadded.\"</td>\n      <td>Pete Sessions</td>\n      <td>/texas/statements/2010/aug/08/pete-sessions/pete-sessions-federal-government-has-gained-500000/</td>\n      <td>Mostly False</td>\n      <td>2010</td>\n      <td>mostly-false</td>\n    </tr>\n    <tr>\n      <th>16499</th>\n      <td>\"John Edwards never -- has ever from the beginning of his political career has never taken PAC money or the money of Washington lobbyists. Ever.\"\\n-Joe Trippi, senior campaign adviser</td>\n      <td>John Edwards</td>\n      <td>/truth-o-meter/statements/2007/oct/16/john-edwards/not-really-never-ever/</td>\n      <td>Half-True</td>\n      <td>2007</td>\n      <td>half-true</td>\n    </tr>\n    <tr>\n      <th>16525</th>\n      <td>\"It doesn't make sense to me to send $1-billion a day out of our\\ncountry. We can be energy independent and should be.\"</td>\n      <td>Mitt Romney</td>\n      <td>/truth-o-meter/statements/2007/oct/02/mitt-romney/difficult-to-go-it-alone-on-energy/</td>\n      <td>Half-True</td>\n      <td>2007</td>\n      <td>half-true</td>\n    </tr>\n    <tr>\n      <th>16550</th>\n      <td>\"We're spending $1.6 billion for all of Latin America in terms of aid and assistance, a\\nfraction of what we're spending in Iraq, the $500 billion we've spent there\"</td>\n      <td>Chris Dodd</td>\n      <td>/truth-o-meter/statements/2007/sep/14/chris-dodd/correct-although-money-not-yet-appropriated/</td>\n      <td>Mostly True</td>\n      <td>2007</td>\n      <td>mostly-true</td>\n    </tr>\n    <tr>\n      <th>16567</th>\n      <td>\"When NAFTA was passed, there was an acceleration of immigration from Mexico because people were\\nin search of jobs.\"</td>\n      <td>Dennis Kucinich</td>\n      <td>/truth-o-meter/statements/2007/sep/07/dennis-kucinich/nafta-not-a-big-factor-in-increase/</td>\n      <td>Half-True</td>\n      <td>2007</td>\n      <td>half-true</td>\n    </tr>\n  </tbody>\n</table>\n</div>"
     },
     "metadata": {}
    }
   ]
  },
  {
   "cell_type": "code",
   "metadata": {
    "tags": [],
    "cell_id": "00005-d5fdb8b8-ded5-423f-adc4-970539a96218",
    "deepnote_to_be_reexecuted": false,
    "source_hash": "66e76bdb",
    "execution_start": 1622774637786,
    "execution_millis": 0,
    "deepnote_cell_type": "code"
   },
   "source": "# Clear '\\n' format\nmerged['statement'] = merged['statement'].str.replace('\\n',' ')",
   "execution_count": null,
   "outputs": []
  },
  {
   "cell_type": "code",
   "metadata": {
    "tags": [],
    "cell_id": "00015-8ea5eb04-4a98-41a1-affc-ab2476c1dc2a",
    "deepnote_to_be_reexecuted": false,
    "source_hash": "8e5688bb",
    "execution_start": 1622774638360,
    "execution_millis": 7,
    "deepnote_cell_type": "code"
   },
   "source": "merged[\"statement_mod\"] = merged.statement.str.replace(\"Says\", \"\")",
   "execution_count": null,
   "outputs": []
  },
  {
   "cell_type": "code",
   "metadata": {
    "tags": [],
    "cell_id": "00017-53ce9cd2-60bf-4bfe-b5be-49c7a4b65360",
    "deepnote_to_be_reexecuted": false,
    "source_hash": "aaa2dd30",
    "execution_start": 1622774746809,
    "execution_millis": 1,
    "deepnote_cell_type": "code"
   },
   "source": "merged[\"statement_mod\"] = merged.statement_mod.str.replace(\"Said\", \"\")",
   "execution_count": null,
   "outputs": []
  },
  {
   "cell_type": "code",
   "metadata": {
    "tags": [],
    "cell_id": "00018-ce29b109-fb12-428f-89f3-9e719ce6c61d",
    "deepnote_to_be_reexecuted": false,
    "source_hash": "9950d057",
    "execution_start": 1622774747746,
    "execution_millis": 3,
    "deepnote_cell_type": "code"
   },
   "source": "merged['statement_mod'] = merged.statement_mod.str.lstrip()",
   "execution_count": null,
   "outputs": []
  },
  {
   "cell_type": "code",
   "metadata": {
    "tags": [],
    "cell_id": "00020-996e361c-3971-4a79-85a2-f5dc3560e27f",
    "deepnote_to_be_reexecuted": false,
    "source_hash": "1751e3a3",
    "execution_start": 1622774747987,
    "execution_millis": 2,
    "deepnote_cell_type": "code"
   },
   "source": "# Words in paranthesis indicate context, might want to remove or keep during modeling",
   "execution_count": null,
   "outputs": []
  },
  {
   "cell_type": "code",
   "metadata": {
    "tags": [],
    "cell_id": "00021-49386070-5471-4c02-8877-8f2ae8a5ffc9",
    "deepnote_to_be_reexecuted": false,
    "source_hash": "127946c0",
    "execution_start": 1622774748269,
    "execution_millis": 198,
    "deepnote_cell_type": "code"
   },
   "source": "merged.to_csv('cleaned_data.csv', index=False)",
   "execution_count": null,
   "outputs": []
  },
  {
   "cell_type": "code",
   "metadata": {
    "tags": [],
    "cell_id": "00022-c72d5ab6-c3ba-4814-8fb6-3e07d98c8dac",
    "deepnote_to_be_reexecuted": false,
    "source_hash": "67d3424f",
    "execution_start": 1622846162499,
    "execution_millis": 122,
    "deepnote_cell_type": "code"
   },
   "source": "df = pd.read_csv('cleaned_data.csv')",
   "execution_count": 2,
   "outputs": []
  },
  {
   "cell_type": "code",
   "source": "df['sent_length'] = df.statement.apply(lambda x: len(x.split(' ')))",
   "metadata": {
    "tags": [],
    "cell_id": "00018-ccea5b83-a15b-4d36-b925-36f24698c184",
    "deepnote_to_be_reexecuted": false,
    "source_hash": "3fae9cea",
    "execution_start": 1622846214549,
    "execution_millis": 38,
    "deepnote_cell_type": "code"
   },
   "outputs": [],
   "execution_count": 5
  },
  {
   "cell_type": "code",
   "source": "df.sent_length.hist()\ndf.sent_length.describe()\n\n# use min of 10 word, use 25 words as max",
   "metadata": {
    "tags": [],
    "cell_id": "00019-15f4ad90-b1b0-4ebd-b67c-c6d2c9154902",
    "deepnote_to_be_reexecuted": false,
    "source_hash": "4609742c",
    "execution_start": 1622846239522,
    "execution_millis": 253,
    "deepnote_cell_type": "code"
   },
   "outputs": [
    {
     "output_type": "execute_result",
     "execution_count": 7,
     "data": {
      "text/plain": "count    16750.000000\nmean        18.188478\nstd          7.974300\nmin          2.000000\n25%         12.000000\n50%         17.000000\n75%         23.000000\nmax         73.000000\nName: sent_length, dtype: float64"
     },
     "metadata": {}
    },
    {
     "data": {
      "text/plain": "<Figure size 432x288 with 1 Axes>",
      "image/png": "[encoded data removed]"
     },
     "metadata": {
      "needs_background": "light",
      "image/png": {
       "width": 381,
       "height": 248
      }
     },
     "output_type": "display_data"
    }
   ],
   "execution_count": 7
  },
  {
   "cell_type": "markdown",
   "source": "<a style='text-decoration:none;line-height:16px;display:flex;color:#5B5B62;padding:10px;justify-content:end;' href='https://deepnote.com?utm_source=created-in-deepnote-cell&projectId=ba64113f-66c5-469d-aa9f-5432b65aa500' target=\"_blank\">\n<img alt='Created in deepnote.com' style='display:inline;max-height:16px;margin:0px;margin-right:7.5px;' src='data:image/svg+xml;base64,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' > </img>\nCreated in <span style='font-weight:600;margin-left:4px;'>Deepnote</span></a>",
   "metadata": {
    "tags": [],
    "created_in_deepnote_cell": true,
    "deepnote_cell_type": "markdown"
   }
  }
 ],
 "nbformat": 4,
 "nbformat_minor": 2,
 "metadata": {
  "orig_nbformat": 2,
  "deepnote": {
   "is_reactive": false
  },
  "deepnote_notebook_id": "7d3718c8-fa74-4ed6-ae07-a223ab721b72",
  "deepnote_execution_queue": []
 }
}